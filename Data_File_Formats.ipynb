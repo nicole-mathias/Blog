{
  "nbformat": 4,
  "nbformat_minor": 0,
  "metadata": {
    "colab": {
      "name": "Data File Formats.ipynb",
      "provenance": [],
      "collapsed_sections": [],
      "authorship_tag": "ABX9TyOnRLypjC9jwZhgSG4fHZE6",
      "include_colab_link": true
    },
    "kernelspec": {
      "name": "python3",
      "display_name": "Python 3"
    },
    "language_info": {
      "name": "python"
    }
  },
  "cells": [
    {
      "cell_type": "markdown",
      "metadata": {
        "id": "view-in-github",
        "colab_type": "text"
      },
      "source": [
        "<a href=\"https://colab.research.google.com/github/priyankadalmia/medium/blob/main/Data_File_Formats.ipynb\" target=\"_parent\"><img src=\"https://colab.research.google.com/assets/colab-badge.svg\" alt=\"Open In Colab\"/></a>"
      ]
    },
    {
      "cell_type": "code",
      "metadata": {
        "id": "V0ZNkCv_wHoP"
      },
      "source": [
        "import pandas as pd\n",
        "import os"
      ],
      "execution_count": 21,
      "outputs": []
    },
    {
      "cell_type": "code",
      "metadata": {
        "colab": {
          "base_uri": "https://localhost:8080/"
        },
        "id": "aLb8wTpRxYKB",
        "outputId": "11314ba1-da82-4a11-c88e-f4798646112d"
      },
      "source": [
        "#Gives Execution time\n",
        "%%time \n",
        "\n",
        "train_df = pd.read_csv(\"train.csv\")"
      ],
      "execution_count": 22,
      "outputs": [
        {
          "output_type": "stream",
          "name": "stdout",
          "text": [
            "CPU times: user 108 ms, sys: 24.3 ms, total: 132 ms\n",
            "Wall time: 135 ms\n"
          ]
        }
      ]
    },
    {
      "cell_type": "code",
      "metadata": {
        "colab": {
          "base_uri": "https://localhost:8080/"
        },
        "id": "dn-to6Y0xy3C",
        "outputId": "29baff79-9167-43ba-84ae-9eb74784f57d"
      },
      "source": [
        "train_df.dtypes"
      ],
      "execution_count": 23,
      "outputs": [
        {
          "output_type": "execute_result",
          "data": {
            "text/plain": [
              "Year                     int64\n",
              "Industry_aggregation    object\n",
              "Industry_code           object\n",
              "Industry_name           object\n",
              "Units                   object\n",
              "Variable_code           object\n",
              "Variable_name           object\n",
              "Variable_category       object\n",
              "Value                   object\n",
              "Industry_division       object\n",
              "dtype: object"
            ]
          },
          "metadata": {},
          "execution_count": 23
        }
      ]
    },
    {
      "cell_type": "code",
      "metadata": {
        "id": "NJ7nNwkwxrI8"
      },
      "source": [
        "#Defining data types in required format\n",
        "dtypes = {\n",
        "    \"Year\": \"int16\",\n",
        "    \"Industry_aggregation\": \"str\",\n",
        "    \"Industry_code\": \"str\",\n",
        "    \"Industry_name\": \"str\",\n",
        "    \"Units\": \"str\",\n",
        "    \"Variable_code\": \"str\",\n",
        "    \"Variable_name\": \"str\",\n",
        "    \"Variable_category\": \"str\",\n",
        "    \"Value\": \"str\", \n",
        "    \"Industry_division\": \"str\"   \n",
        "}"
      ],
      "execution_count": 24,
      "outputs": []
    },
    {
      "cell_type": "code",
      "metadata": {
        "id": "JZ84iat1y9LD"
      },
      "source": [
        "train_new_df = pd.read_csv(\"train.csv\", dtype = dtypes)"
      ],
      "execution_count": 25,
      "outputs": []
    },
    {
      "cell_type": "code",
      "metadata": {
        "id": "No0kpulCz17O",
        "colab": {
          "base_uri": "https://localhost:8080/"
        },
        "outputId": "10779a06-2da7-48e7-bf62-c555618e3a17"
      },
      "source": [
        "train_new_df.info()"
      ],
      "execution_count": 26,
      "outputs": [
        {
          "output_type": "stream",
          "name": "stdout",
          "text": [
            "<class 'pandas.core.frame.DataFrame'>\n",
            "RangeIndex: 37080 entries, 0 to 37079\n",
            "Data columns (total 10 columns):\n",
            " #   Column                Non-Null Count  Dtype \n",
            "---  ------                --------------  ----- \n",
            " 0   Year                  37080 non-null  int16 \n",
            " 1   Industry_aggregation  37080 non-null  object\n",
            " 2   Industry_code         37080 non-null  object\n",
            " 3   Industry_name         37080 non-null  object\n",
            " 4   Units                 37080 non-null  object\n",
            " 5   Variable_code         37080 non-null  object\n",
            " 6   Variable_name         37080 non-null  object\n",
            " 7   Variable_category     37080 non-null  object\n",
            " 8   Value                 37080 non-null  object\n",
            " 9   Industry_division     37080 non-null  object\n",
            "dtypes: int16(1), object(9)\n",
            "memory usage: 2.6+ MB\n"
          ]
        }
      ]
    },
    {
      "cell_type": "code",
      "metadata": {
        "id": "7DbGynATz2ry"
      },
      "source": [
        "train_new_df.to_pickle(\"train.pkl\")"
      ],
      "execution_count": 27,
      "outputs": []
    },
    {
      "cell_type": "code",
      "metadata": {
        "id": "eAOAsU8Lz7HW"
      },
      "source": [
        "train_new_df.to_parquet(\"train.parquet\")"
      ],
      "execution_count": 28,
      "outputs": []
    },
    {
      "cell_type": "code",
      "metadata": {
        "id": "t8Aab9k67WJI"
      },
      "source": [
        "train_new_df.to_feather(\"train.feather\")"
      ],
      "execution_count": 29,
      "outputs": []
    },
    {
      "cell_type": "code",
      "metadata": {
        "id": "Yfny6n7L7fzE"
      },
      "source": [
        "filenames = ['train.csv',\n",
        "             'train.pkl', \n",
        "             'train.feather', \n",
        "             'train.parquet']\n",
        "\n",
        "all_filesizes = [os.path.getsize(f) for f in filenames]             \n",
        " \n",
        "filescompare_df = pd.DataFrame( { \"formats\" : filenames,\n",
        "                                  \"filesize\": all_filesizes})"
      ],
      "execution_count": 30,
      "outputs": []
    },
    {
      "cell_type": "code",
      "metadata": {
        "colab": {
          "base_uri": "https://localhost:8080/",
          "height": 171
        },
        "id": "7y8xAYqY725Z",
        "outputId": "848125f2-85ea-4453-bfd4-bac6f2302c2a"
      },
      "source": [
        "filescompare_df"
      ],
      "execution_count": 31,
      "outputs": [
        {
          "output_type": "execute_result",
          "data": {
            "text/html": [
              "<div>\n",
              "<style scoped>\n",
              "    .dataframe tbody tr th:only-of-type {\n",
              "        vertical-align: middle;\n",
              "    }\n",
              "\n",
              "    .dataframe tbody tr th {\n",
              "        vertical-align: top;\n",
              "    }\n",
              "\n",
              "    .dataframe thead th {\n",
              "        text-align: right;\n",
              "    }\n",
              "</style>\n",
              "<table border=\"1\" class=\"dataframe\">\n",
              "  <thead>\n",
              "    <tr style=\"text-align: right;\">\n",
              "      <th></th>\n",
              "      <th>formats</th>\n",
              "      <th>filesize</th>\n",
              "    </tr>\n",
              "  </thead>\n",
              "  <tbody>\n",
              "    <tr>\n",
              "      <th>0</th>\n",
              "      <td>train.csv</td>\n",
              "      <td>5882399</td>\n",
              "    </tr>\n",
              "    <tr>\n",
              "      <th>1</th>\n",
              "      <td>train.pkl</td>\n",
              "      <td>1521343</td>\n",
              "    </tr>\n",
              "    <tr>\n",
              "      <th>2</th>\n",
              "      <td>train.feather</td>\n",
              "      <td>1533490</td>\n",
              "    </tr>\n",
              "    <tr>\n",
              "      <th>3</th>\n",
              "      <td>train.parquet</td>\n",
              "      <td>137669</td>\n",
              "    </tr>\n",
              "  </tbody>\n",
              "</table>\n",
              "</div>"
            ],
            "text/plain": [
              "         formats  filesize\n",
              "0      train.csv   5882399\n",
              "1      train.pkl   1521343\n",
              "2  train.feather   1533490\n",
              "3  train.parquet    137669"
            ]
          },
          "metadata": {},
          "execution_count": 31
        }
      ]
    },
    {
      "cell_type": "code",
      "metadata": {
        "colab": {
          "base_uri": "https://localhost:8080/"
        },
        "id": "2POSSR0T8AV0",
        "outputId": "3e445eff-e6ba-4e8a-a559-503ad386fc79"
      },
      "source": [
        "%%time \n",
        "\n",
        "train_pkl_df = pd.read_pickle(\"train.pkl\")"
      ],
      "execution_count": 32,
      "outputs": [
        {
          "output_type": "stream",
          "name": "stdout",
          "text": [
            "CPU times: user 20.7 ms, sys: 1.76 ms, total: 22.5 ms\n",
            "Wall time: 22.9 ms\n"
          ]
        }
      ]
    },
    {
      "cell_type": "code",
      "metadata": {
        "colab": {
          "base_uri": "https://localhost:8080/"
        },
        "id": "jHUUymxA8El4",
        "outputId": "37b22f27-d1c1-43c1-f287-0ffbfa7214d1"
      },
      "source": [
        "%%time \n",
        "\n",
        "train_feather_df = pd.read_feather(\"train.feather\")"
      ],
      "execution_count": 33,
      "outputs": [
        {
          "output_type": "stream",
          "name": "stdout",
          "text": [
            "CPU times: user 24.1 ms, sys: 12.8 ms, total: 37 ms\n",
            "Wall time: 36.8 ms\n"
          ]
        }
      ]
    },
    {
      "cell_type": "code",
      "metadata": {
        "colab": {
          "base_uri": "https://localhost:8080/"
        },
        "id": "FjjIE6qG8Hjr",
        "outputId": "749b4d55-ca76-4465-da07-faf377e70177"
      },
      "source": [
        "%%time \n",
        "\n",
        "train_parquet_df = pd.read_parquet(\"train.parquet\")"
      ],
      "execution_count": 34,
      "outputs": [
        {
          "output_type": "stream",
          "name": "stdout",
          "text": [
            "CPU times: user 37.3 ms, sys: 11.6 ms, total: 48.9 ms\n",
            "Wall time: 46.1 ms\n"
          ]
        }
      ]
    },
    {
      "cell_type": "code",
      "metadata": {
        "id": "fg4Xsu0h8KhZ"
      },
      "source": [
        "import time\n",
        "\n",
        "t1 = time.perf_counter()\n",
        "train_df = pd.read_csv(\"train.csv\")\n",
        "time_csv = time.perf_counter() - t1\n",
        "\n",
        "t1 = time.perf_counter()\n",
        "train_pkl_df = pd.read_pickle(\"train.pkl\")\n",
        "time_pkl = time.perf_counter() - t1\n",
        "\n",
        "t1 = time.perf_counter()\n",
        "train_feather_df = pd.read_feather(\"train.feather\")\n",
        "time_feather = time.perf_counter() - t1\n",
        "\n",
        "t1 = time.perf_counter()\n",
        "train_parquet_df = pd.read_parquet(\"train.parquet\")\n",
        "time_parquet = time.perf_counter() - t1"
      ],
      "execution_count": 35,
      "outputs": []
    },
    {
      "cell_type": "code",
      "metadata": {
        "id": "BzzWj3e58P8u"
      },
      "source": [
        "filescompare_df['read_time'] = [time_csv, time_pkl, time_feather, time_parquet]"
      ],
      "execution_count": 36,
      "outputs": []
    },
    {
      "cell_type": "code",
      "metadata": {
        "colab": {
          "base_uri": "https://localhost:8080/",
          "height": 171
        },
        "id": "KSbK8i2x8kzn",
        "outputId": "2b814f2d-1e77-4bd3-e668-5590d363f450"
      },
      "source": [
        "filescompare_df"
      ],
      "execution_count": 37,
      "outputs": [
        {
          "output_type": "execute_result",
          "data": {
            "text/html": [
              "<div>\n",
              "<style scoped>\n",
              "    .dataframe tbody tr th:only-of-type {\n",
              "        vertical-align: middle;\n",
              "    }\n",
              "\n",
              "    .dataframe tbody tr th {\n",
              "        vertical-align: top;\n",
              "    }\n",
              "\n",
              "    .dataframe thead th {\n",
              "        text-align: right;\n",
              "    }\n",
              "</style>\n",
              "<table border=\"1\" class=\"dataframe\">\n",
              "  <thead>\n",
              "    <tr style=\"text-align: right;\">\n",
              "      <th></th>\n",
              "      <th>formats</th>\n",
              "      <th>filesize</th>\n",
              "      <th>read_time</th>\n",
              "    </tr>\n",
              "  </thead>\n",
              "  <tbody>\n",
              "    <tr>\n",
              "      <th>0</th>\n",
              "      <td>train.csv</td>\n",
              "      <td>5882399</td>\n",
              "      <td>0.111885</td>\n",
              "    </tr>\n",
              "    <tr>\n",
              "      <th>1</th>\n",
              "      <td>train.pkl</td>\n",
              "      <td>1521343</td>\n",
              "      <td>0.025992</td>\n",
              "    </tr>\n",
              "    <tr>\n",
              "      <th>2</th>\n",
              "      <td>train.feather</td>\n",
              "      <td>1533490</td>\n",
              "      <td>0.017190</td>\n",
              "    </tr>\n",
              "    <tr>\n",
              "      <th>3</th>\n",
              "      <td>train.parquet</td>\n",
              "      <td>137669</td>\n",
              "      <td>0.031539</td>\n",
              "    </tr>\n",
              "  </tbody>\n",
              "</table>\n",
              "</div>"
            ],
            "text/plain": [
              "         formats  filesize  read_time\n",
              "0      train.csv   5882399   0.111885\n",
              "1      train.pkl   1521343   0.025992\n",
              "2  train.feather   1533490   0.017190\n",
              "3  train.parquet    137669   0.031539"
            ]
          },
          "metadata": {},
          "execution_count": 37
        }
      ]
    }
  ]
}