{
  "nbformat": 4,
  "nbformat_minor": 0,
  "metadata": {
    "colab": {
      "name": "Data File Formats.ipynb",
      "provenance": [],
      "collapsed_sections": [],
      "authorship_tag": "ABX9TyNWt7J4SuGXqwGTgtH6lts+",
      "include_colab_link": true
    },
    "kernelspec": {
      "name": "python3",
      "display_name": "Python 3"
    },
    "language_info": {
      "name": "python"
    }
  },
  "cells": [
    {
      "cell_type": "markdown",
      "metadata": {
        "id": "view-in-github",
        "colab_type": "text"
      },
      "source": [
        "<a href=\"https://colab.research.google.com/github/priyankadalmia/medium/blob/main/Data_File_Formats.ipynb\" target=\"_parent\"><img src=\"https://colab.research.google.com/assets/colab-badge.svg\" alt=\"Open In Colab\"/></a>"
      ]
    },
    {
      "cell_type": "code",
      "metadata": {
        "id": "V0ZNkCv_wHoP"
      },
      "source": [
        "import pandas as pd\n",
        "import os"
      ],
      "execution_count": 4,
      "outputs": []
    },
    {
      "cell_type": "code",
      "metadata": {
        "colab": {
          "base_uri": "https://localhost:8080/"
        },
        "id": "aLb8wTpRxYKB",
        "outputId": "8f0666f7-81b8-4949-9920-fe156f75946d"
      },
      "source": [
        "#Gives Execution time\n",
        "%%time \n",
        "\n",
        "train_df = pd.read_csv(\"train.csv\")"
      ],
      "execution_count": 5,
      "outputs": [
        {
          "output_type": "stream",
          "name": "stdout",
          "text": [
            "CPU times: user 82 ms, sys: 17.3 ms, total: 99.4 ms\n",
            "Wall time: 115 ms\n"
          ]
        }
      ]
    },
    {
      "cell_type": "code",
      "metadata": {
        "colab": {
          "base_uri": "https://localhost:8080/"
        },
        "id": "dn-to6Y0xy3C",
        "outputId": "ac47420e-7a9a-47ec-ec1d-2ae7845c151a"
      },
      "source": [
        "train_df.dtypes"
      ],
      "execution_count": 6,
      "outputs": [
        {
          "output_type": "execute_result",
          "data": {
            "text/plain": [
              "Year                     int64\n",
              "Industry_aggregation    object\n",
              "Industry_code           object\n",
              "Industry_name           object\n",
              "Units                   object\n",
              "Variable_code           object\n",
              "Variable_name           object\n",
              "Variable_category       object\n",
              "Value                   object\n",
              "Industry_division       object\n",
              "dtype: object"
            ]
          },
          "metadata": {},
          "execution_count": 6
        }
      ]
    },
    {
      "cell_type": "code",
      "metadata": {
        "id": "NJ7nNwkwxrI8"
      },
      "source": [
        "#Defining data types in required format\n",
        "dtypes = {\n",
        "    \"Year\": \"int16\",\n",
        "    \"Industry_aggregation\": \"str\",\n",
        "    \"Industry_code\": \"str\",\n",
        "    \"Industry_name\": \"str\",\n",
        "    \"Units\": \"str\",\n",
        "    \"Variable_code\": \"str\",\n",
        "    \"Variable_name\": \"str\",\n",
        "    \"Variable_category\": \"str\",\n",
        "    \"Value\": \"str\", \n",
        "    \"Industry_division\": \"str\"   \n",
        "}"
      ],
      "execution_count": 7,
      "outputs": []
    },
    {
      "cell_type": "code",
      "metadata": {
        "id": "JZ84iat1y9LD"
      },
      "source": [
        "train_new_df = pd.read_csv(\"train.csv\", dtype = dtypes)"
      ],
      "execution_count": 8,
      "outputs": []
    },
    {
      "cell_type": "code",
      "metadata": {
        "id": "No0kpulCz17O",
        "colab": {
          "base_uri": "https://localhost:8080/"
        },
        "outputId": "bf888d9a-b1fe-4b8d-be63-599b269b9b2a"
      },
      "source": [
        "train_new_df.info()"
      ],
      "execution_count": 9,
      "outputs": [
        {
          "output_type": "stream",
          "name": "stdout",
          "text": [
            "<class 'pandas.core.frame.DataFrame'>\n",
            "RangeIndex: 37080 entries, 0 to 37079\n",
            "Data columns (total 10 columns):\n",
            " #   Column                Non-Null Count  Dtype \n",
            "---  ------                --------------  ----- \n",
            " 0   Year                  37080 non-null  int16 \n",
            " 1   Industry_aggregation  37080 non-null  object\n",
            " 2   Industry_code         37080 non-null  object\n",
            " 3   Industry_name         37080 non-null  object\n",
            " 4   Units                 37080 non-null  object\n",
            " 5   Variable_code         37080 non-null  object\n",
            " 6   Variable_name         37080 non-null  object\n",
            " 7   Variable_category     37080 non-null  object\n",
            " 8   Value                 37080 non-null  object\n",
            " 9   Industry_division     37080 non-null  object\n",
            "dtypes: int16(1), object(9)\n",
            "memory usage: 2.6+ MB\n"
          ]
        }
      ]
    },
    {
      "cell_type": "code",
      "metadata": {
        "id": "7DbGynATz2ry",
        "colab": {
          "base_uri": "https://localhost:8080/"
        },
        "outputId": "da67084b-4b96-4b91-c7cb-820f7b5daf09"
      },
      "source": [
        "train_new_df.to_pickle(\"train.pkl\")\n",
        "!ls -al datasets/"
      ],
      "execution_count": 10,
      "outputs": [
        {
          "output_type": "stream",
          "name": "stdout",
          "text": [
            "ls: cannot access 'datasets/': No such file or directory\n"
          ]
        }
      ]
    },
    {
      "cell_type": "code",
      "metadata": {
        "id": "eAOAsU8Lz7HW",
        "colab": {
          "base_uri": "https://localhost:8080/"
        },
        "outputId": "cd2b7a30-f2d5-4c6b-e12f-4577887eba08"
      },
      "source": [
        "train_new_df.to_parquet(\"train.parquet\")\n",
        "!ls -al datasets/"
      ],
      "execution_count": 11,
      "outputs": [
        {
          "output_type": "stream",
          "name": "stdout",
          "text": [
            "ls: cannot access 'datasets/': No such file or directory\n"
          ]
        }
      ]
    },
    {
      "cell_type": "code",
      "metadata": {
        "colab": {
          "base_uri": "https://localhost:8080/"
        },
        "id": "t8Aab9k67WJI",
        "outputId": "da8a6f29-b266-403d-e447-fd10131b441c"
      },
      "source": [
        "train_new_df.to_feather(\"train.feather\")\n",
        "!ls -al datasets/"
      ],
      "execution_count": 12,
      "outputs": [
        {
          "output_type": "stream",
          "name": "stdout",
          "text": [
            "ls: cannot access 'datasets/': No such file or directory\n"
          ]
        }
      ]
    },
    {
      "cell_type": "code",
      "metadata": {
        "id": "Yfny6n7L7fzE"
      },
      "source": [
        "filenames = ['train.csv',\n",
        "             'train.pkl', \n",
        "             'train.feather', \n",
        "             'train.parquet']\n",
        "\n",
        "all_filesizes = [os.path.getsize(f) for f in filenames]             \n",
        " \n",
        "filescompare_df = pd.DataFrame( { \"formats\" : filenames,\n",
        "                                  \"filesize\": all_filesizes})"
      ],
      "execution_count": 13,
      "outputs": []
    },
    {
      "cell_type": "code",
      "metadata": {
        "colab": {
          "base_uri": "https://localhost:8080/",
          "height": 171
        },
        "id": "7y8xAYqY725Z",
        "outputId": "38b51250-2296-4d87-e2db-12d0fb412e00"
      },
      "source": [
        "filescompare_df"
      ],
      "execution_count": 14,
      "outputs": [
        {
          "output_type": "execute_result",
          "data": {
            "text/html": [
              "<div>\n",
              "<style scoped>\n",
              "    .dataframe tbody tr th:only-of-type {\n",
              "        vertical-align: middle;\n",
              "    }\n",
              "\n",
              "    .dataframe tbody tr th {\n",
              "        vertical-align: top;\n",
              "    }\n",
              "\n",
              "    .dataframe thead th {\n",
              "        text-align: right;\n",
              "    }\n",
              "</style>\n",
              "<table border=\"1\" class=\"dataframe\">\n",
              "  <thead>\n",
              "    <tr style=\"text-align: right;\">\n",
              "      <th></th>\n",
              "      <th>formats</th>\n",
              "      <th>filesize</th>\n",
              "    </tr>\n",
              "  </thead>\n",
              "  <tbody>\n",
              "    <tr>\n",
              "      <th>0</th>\n",
              "      <td>train.csv</td>\n",
              "      <td>5882399</td>\n",
              "    </tr>\n",
              "    <tr>\n",
              "      <th>1</th>\n",
              "      <td>train.pkl</td>\n",
              "      <td>1521343</td>\n",
              "    </tr>\n",
              "    <tr>\n",
              "      <th>2</th>\n",
              "      <td>train.feather</td>\n",
              "      <td>1533490</td>\n",
              "    </tr>\n",
              "    <tr>\n",
              "      <th>3</th>\n",
              "      <td>train.parquet</td>\n",
              "      <td>137669</td>\n",
              "    </tr>\n",
              "  </tbody>\n",
              "</table>\n",
              "</div>"
            ],
            "text/plain": [
              "         formats  filesize\n",
              "0      train.csv   5882399\n",
              "1      train.pkl   1521343\n",
              "2  train.feather   1533490\n",
              "3  train.parquet    137669"
            ]
          },
          "metadata": {},
          "execution_count": 14
        }
      ]
    },
    {
      "cell_type": "code",
      "metadata": {
        "colab": {
          "base_uri": "https://localhost:8080/"
        },
        "id": "2POSSR0T8AV0",
        "outputId": "cfd60b4a-2601-41d9-f458-3126fe3fd8ca"
      },
      "source": [
        "%%time \n",
        "\n",
        "train_pkl_df = pd.read_pickle(\"train.pkl\")"
      ],
      "execution_count": 15,
      "outputs": [
        {
          "output_type": "stream",
          "name": "stdout",
          "text": [
            "CPU times: user 16.1 ms, sys: 7.11 ms, total: 23.2 ms\n",
            "Wall time: 37.7 ms\n"
          ]
        }
      ]
    },
    {
      "cell_type": "code",
      "metadata": {
        "colab": {
          "base_uri": "https://localhost:8080/"
        },
        "id": "jHUUymxA8El4",
        "outputId": "438bea47-72d1-4319-9ebc-e039ef68c7be"
      },
      "source": [
        "%%time \n",
        "\n",
        "train_feather_df = pd.read_feather(\"train.feather\")"
      ],
      "execution_count": 16,
      "outputs": [
        {
          "output_type": "stream",
          "name": "stdout",
          "text": [
            "CPU times: user 16.2 ms, sys: 8.06 ms, total: 24.3 ms\n",
            "Wall time: 22.8 ms\n"
          ]
        }
      ]
    },
    {
      "cell_type": "code",
      "metadata": {
        "colab": {
          "base_uri": "https://localhost:8080/"
        },
        "id": "FjjIE6qG8Hjr",
        "outputId": "e5dd80ac-39ff-4b33-8faf-07b52903ad4a"
      },
      "source": [
        "%%time \n",
        "\n",
        "train_parquet_df = pd.read_parquet(\"train.parquet\")"
      ],
      "execution_count": 17,
      "outputs": [
        {
          "output_type": "stream",
          "name": "stdout",
          "text": [
            "CPU times: user 49.1 ms, sys: 6.15 ms, total: 55.2 ms\n",
            "Wall time: 77.1 ms\n"
          ]
        }
      ]
    },
    {
      "cell_type": "code",
      "metadata": {
        "id": "fg4Xsu0h8KhZ"
      },
      "source": [
        "import time\n",
        "\n",
        "t1 = time.perf_counter()\n",
        "train_df = pd.read_csv(\"train.csv\")\n",
        "time_csv = time.perf_counter() - t1\n",
        "\n",
        "t1 = time.perf_counter()\n",
        "train_pkl_df = pd.read_pickle(\"train.pkl\")\n",
        "time_pkl = time.perf_counter() - t1\n",
        "\n",
        "t1 = time.perf_counter()\n",
        "train_feather_df = pd.read_feather(\"train.feather\")\n",
        "time_feather = time.perf_counter() - t1\n",
        "\n",
        "t1 = time.perf_counter()\n",
        "train_parquet_df = pd.read_parquet(\"train.parquet\")\n",
        "time_parquet = time.perf_counter() - t1"
      ],
      "execution_count": 18,
      "outputs": []
    },
    {
      "cell_type": "code",
      "metadata": {
        "id": "BzzWj3e58P8u"
      },
      "source": [
        "filescompare_df['read_time'] = [time_csv, time_pkl, time_feather, time_parquet]"
      ],
      "execution_count": 19,
      "outputs": []
    },
    {
      "cell_type": "code",
      "metadata": {
        "colab": {
          "base_uri": "https://localhost:8080/",
          "height": 171
        },
        "id": "KSbK8i2x8kzn",
        "outputId": "59ce2875-8a9c-46a1-e68a-0dd4f0160b59"
      },
      "source": [
        "filescompare_df"
      ],
      "execution_count": 20,
      "outputs": [
        {
          "output_type": "execute_result",
          "data": {
            "text/html": [
              "<div>\n",
              "<style scoped>\n",
              "    .dataframe tbody tr th:only-of-type {\n",
              "        vertical-align: middle;\n",
              "    }\n",
              "\n",
              "    .dataframe tbody tr th {\n",
              "        vertical-align: top;\n",
              "    }\n",
              "\n",
              "    .dataframe thead th {\n",
              "        text-align: right;\n",
              "    }\n",
              "</style>\n",
              "<table border=\"1\" class=\"dataframe\">\n",
              "  <thead>\n",
              "    <tr style=\"text-align: right;\">\n",
              "      <th></th>\n",
              "      <th>formats</th>\n",
              "      <th>filesize</th>\n",
              "      <th>read_time</th>\n",
              "    </tr>\n",
              "  </thead>\n",
              "  <tbody>\n",
              "    <tr>\n",
              "      <th>0</th>\n",
              "      <td>train.csv</td>\n",
              "      <td>5882399</td>\n",
              "      <td>0.082750</td>\n",
              "    </tr>\n",
              "    <tr>\n",
              "      <th>1</th>\n",
              "      <td>train.pkl</td>\n",
              "      <td>1521343</td>\n",
              "      <td>0.017491</td>\n",
              "    </tr>\n",
              "    <tr>\n",
              "      <th>2</th>\n",
              "      <td>train.feather</td>\n",
              "      <td>1533490</td>\n",
              "      <td>0.015994</td>\n",
              "    </tr>\n",
              "    <tr>\n",
              "      <th>3</th>\n",
              "      <td>train.parquet</td>\n",
              "      <td>137669</td>\n",
              "      <td>0.028692</td>\n",
              "    </tr>\n",
              "  </tbody>\n",
              "</table>\n",
              "</div>"
            ],
            "text/plain": [
              "         formats  filesize  read_time\n",
              "0      train.csv   5882399   0.082750\n",
              "1      train.pkl   1521343   0.017491\n",
              "2  train.feather   1533490   0.015994\n",
              "3  train.parquet    137669   0.028692"
            ]
          },
          "metadata": {},
          "execution_count": 20
        }
      ]
    }
  ]
}